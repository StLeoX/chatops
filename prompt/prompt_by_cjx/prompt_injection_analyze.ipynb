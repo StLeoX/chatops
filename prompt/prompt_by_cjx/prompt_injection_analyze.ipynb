{
 "cells": [
  {
   "cell_type": "code",
   "execution_count": 1,
   "outputs": [
    {
     "name": "stdout",
     "output_type": "stream",
     "text": [
      "     pcost       dcost       gap    pres   dres\n",
      " 0: -2.6873e-01 -6.7301e-01  4e+00  2e+00  1e+00\n",
      " 1: -1.4232e-01 -5.9278e-01  5e-01  3e-16  6e-16\n",
      " 2: -2.3773e-01 -2.7513e-01  4e-02  6e-17  5e-16\n",
      " 3: -2.4959e-01 -2.5037e-01  8e-04  6e-17  4e-16\n",
      " 4: -2.5000e-01 -2.5000e-01  8e-06  6e-17  2e-16\n",
      " 5: -2.5000e-01 -2.5000e-01  8e-08  3e-17  3e-16\n",
      "Optimal solution found.\n",
      "Lagrange multipliers (alphas): [2.49999916e-01 8.17639192e-08 2.49999998e-01]\n",
      "w: [0.50000008 0.5       ]\n",
      "b: -2.0000002232258765\n"
     ]
    }
   ],
   "source": [
    "#!/usr/bin/env python\n",
    "# -*- coding: UTF-8 -*-\n",
    "from prompt.prompt_by_cjx.utils.token_utils import num_tokens_from_messages\n",
    "from prompt.prompt_by_cjx.utils.jsonStr import read_file"
   ],
   "metadata": {
    "collapsed": false,
    "ExecuteTime": {
     "end_time": "2023-12-05T04:08:56.454777600Z",
     "start_time": "2023-12-05T04:08:54.802910800Z"
    }
   },
   "id": "0865d136"
  },
  {
   "cell_type": "code",
   "execution_count": 2,
   "outputs": [
    {
     "name": "stdout",
     "output_type": "stream",
     "text": [
      "处理后后的token数量： 14042\n"
     ]
    }
   ],
   "source": [
    "from app.prompt.promptManager import get_messages_summary_fault_report\n",
    "\n",
    "# 读取数据\n",
    "user_expectation = read_file('D:\\MY_FILES\\Project\\Python\\chatops\\prompt\\prompt_by_cjx\\metadata\\expectation.txt')\n",
    "file_path = 'metadata/faultplayInfo.json'\n",
    "str = read_file(file_path)\n",
    "\n",
    "\n",
    "messages = get_messages_summary_fault_report(str, user_expectation)\n",
    "\n",
    "\n",
    "print(\"处理后后的token数量：\", num_tokens_from_messages(messages))"
   ],
   "metadata": {
    "collapsed": false,
    "ExecuteTime": {
     "end_time": "2023-12-05T04:08:57.426491700Z",
     "start_time": "2023-12-05T04:08:56.457770100Z"
    }
   },
   "id": "a0fe66be559a5c8b"
  },
  {
   "cell_type": "code",
   "execution_count": 3,
   "outputs": [
    {
     "name": "stdout",
     "output_type": "stream",
     "text": [
      "{\n",
      "  \"id\": \"chatcmpl-8SH27eyEWGDbNq6M5kQUaCuzEz7c5\",\n",
      "  \"object\": \"chat.completion\",\n",
      "  \"created\": 1701749351,\n",
      "  \"model\": \"gpt-3.5-turbo-1106\",\n",
      "  \"choices\": [\n",
      "    {\n",
      "      \"index\": 0,\n",
      "      \"message\": {\n",
      "        \"role\": \"assistant\",\n",
      "        \"content\": \"# \\u6545\\u969c\\u6ce8\\u5165\\u6d4b\\u8bd5\\u62a5\\u544a\\u5206\\u6790\\n\\n## \\u6982\\u8ff0\\n\\n\\u6b64\\u62a5\\u544a\\u6df1\\u5165\\u5206\\u6790\\u4e86\\u6db5\\u76d6`user-netdelay`\\u3001`frontend-netdelay`\\u548c`catalogue-netdelay`\\u7684\\u4e09\\u4e2a\\u6838\\u5fc3\\u6545\\u969c\\u6ce8\\u5165\\u6f14\\u7ec3\\u3002\\u5728\\u8fd9\\u4e9b\\u6f14\\u7ec3\\u4e2d\\uff0c\\u6211\\u4eec\\u4e13\\u6ce8\\u4e8eCPU\\u4f7f\\u7528\\u7387\\u3001\\u6570\\u636e\\u5305\\u7684\\u63a5\\u6536\\u4e0e\\u53d1\\u9001\\u6570\\u91cf\\uff08receivePackets\\u548ctransmitPackets\\uff09\\u4ee5\\u53ca\\u5e26\\u5bbd\\uff08receiveBandwidth\\u548ctransmitBandwidth\\uff09\\u5728\\u5173\\u952e\\u65f6\\u523b\\u7684\\u8868\\u73b0\\uff0c\\u4ee5\\u8bc4\\u4f30\\u7cfb\\u7edf\\u5728\\u9762\\u5bf9\\u7f51\\u7edc\\u5ef6\\u8fdf\\u65f6\\u7684\\u8868\\u73b0\\u3002\\n\\n## 1. `user-netdelay` \\u6f14\\u7ec3\\u5206\\u6790\\n\\n### \\u6570\\u636e\\u8d8b\\u52bf\\u4e0e\\u5cf0\\u503c\\u5206\\u6790\\n\\n- **CPU\\u4f7f\\u7528\\u7387**\\uff1a\\u572813\\u65f624\\u520654\\u79d2\\uff0cCPU\\u4f7f\\u7528\\u7387\\u6025\\u5267\\u4e0a\\u5347\\u81f326.0%\\uff0c\\u8fdc\\u8d85\\u5e73\\u65f6\\u7684\\u6ce2\\u52a8\\u8303\\u56f4\\uff080.17%\\u81f30.36%\\uff09\\u3002\\n- **\\u6570\\u636e\\u5305\\u6570\\u91cf**\\uff1a\\u572813\\u65f624\\u520654\\u79d2\\uff0c\\u63a5\\u6536\\u6570\\u636e\\u5305\\u6570\\u91cf\\u6fc0\\u589e\\u81f373853\\u4e2a\\uff0c\\u53d1\\u9001\\u6570\\u636e\\u5305\\u540c\\u4e00\\u65f6\\u95f4\\u8fbe\\u5230\\u4e86102270\\u4e2a\\uff0c\\u8fdc\\u8d85\\u5e73\\u65f6\\u7684\\u6ce2\\u52a8\\u8303\\u56f4\\u3002\\n- **\\u5e26\\u5bbd**\\uff1a\\u572813\\u65f624\\u520654\\u79d2\\uff0c\\u63a5\\u6536\\u5e26\\u5bbd\\u6025\\u5267\\u4e0a\\u5347\\u81f312.73MB\\uff0c\\u53d1\\u9001\\u5e26\\u5bbd\\u4e5f\\u8fbe\\u5230\\u4e8620.34MB\\u7684\\u9876\\u5cf0\\u3002\\n\\n## 2. `frontend-netdelay` \\u6f14\\u7ec3\\u5206\\u6790\\n\\n### \\u6570\\u636e\\u8d8b\\u52bf\\u4e0e\\u5cf0\\u503c\\u5206\\u6790\\n\\n- **CPU\\u4f7f\\u7528\\u7387**\\uff1a\\u572813\\u65f624\\u5206\\u81f313\\u65f628\\u5206\\u7684\\u77ed\\u65f6\\u95f4\\u5185\\uff0cCPU\\u4f7f\\u7528\\u7387\\u6025\\u901f\\u6500\\u5347\\u81f363.0%\\uff0c\\u8fdc\\u8d85\\u5e73\\u65f6\\u7684\\u6ce2\\u52a8\\u8303\\u56f4\\uff080.26%\\u81f30.39%\\uff09\\u3002\\n- **\\u6570\\u636e\\u5305\\u6570\\u91cf**\\uff1a\\u572813\\u65f628\\u520624\\u79d2\\uff0c\\u63a5\\u6536\\u6570\\u636e\\u5305\\u6570\\u98d9\\u5347\\u81f3185449\\u4e2a\\uff0c\\u53d1\\u9001\\u6570\\u636e\\u5305\\u6570\\u91cf\\u4e5f\\u8fbe\\u5230\\u4e86235499\\u4e2a\\uff0c\\u8fdc\\u8d85\\u5e73\\u65f6\\u7684\\u6ce2\\u52a8\\u8303\\u56f4\\u3002\\n- **\\u5e26\\u5bbd**\\uff1a\\u572813\\u65f628\\u520624\\u79d2\\uff0c\\u63a5\\u6536\\u5e26\\u5bbd\\u8fbe\\u5230\\u4e86586.14MB\\uff0c\\u53d1\\u9001\\u5e26\\u5bbd\\u4e5f\\u9ad8\\u8fbe189.87MB\\u3002\\n\\n## 3. `catalogue-netdelay` \\u6f14\\u7ec3\\u5206\\u6790\\n\\n### \\u6570\\u636e\\u8d8b\\u52bf\\u4e0e\\u5cf0\\u503c\\u5206\\u6790\\n\\n- **CPU\\u4f7f\\u7528\\u7387**\\uff1a\\u572813\\u65f624\\u5206\\u81f313\\u65f628\\u5206\\u7684\\u77ed\\u65f6\\u95f4\\u5185\\uff0cCPU\\u4f7f\\u7528\\u7387\\u6025\\u901f\\u6500\\u5347\\u81f322.0%\\uff0c\\u8fdc\\u8d85\\u5e73\\u65f6\\u7684\\u6ce2\\u52a8\\u8303\\u56f4\\uff080.16%\\u81f30.23%\\uff09\\u3002\\n- **\\u6570\\u636e\\u5305\\u6570\\u91cf**\\uff1a\\u572813\\u65f624\\u5206\\uff0c\\u63a5\\u6536\\u6570\\u636e\\u5305\\u6570\\u91cf\\u6025\\u5267\\u4e0a\\u5347\\u81f365566\\u4e2a\\uff0c\\u53d1\\u9001\\u6570\\u636e\\u5305\\u6570\\u91cf\\u4e5f\\u8fbe\\u5230\\u4e8692523\\u4e2a\\uff0c\\u8fdc\\u8d85\\u5e73\\u65f6\\u7684\\u6ce2\\u52a8\\u8303\\u56f4\\u3002\\n- **\\u5e26\\u5bbd**\\uff1a\\u572813\\u65f628\\u520624\\u79d2\\uff0c\\u63a5\\u6536\\u5e26\\u5bbd\\u8fbe\\u5230\\u4e86586.14MB\\uff0c\\u53d1\\u9001\\u5e26\\u5bbd\\u4e5f\\u8fbe\\u5230\\u4e86189.87MB\\u7684\\u9ad8\\u70b9\\u3002\\n\\n## \\u603b\\u7ed3\\u4e0e\\u7cfb\\u7edf\\u95ee\\u9898\\u5206\\u6790\\n\\n### \\u7528\\u6237\\u671f\\u671b\\u5206\\u6790\\n\\n#### \\u767b\\u5f55\\u6a21\\u5757\\n\\n- **CPU\\u4f7f\\u7528\\u7387**\\uff1a\\u5728`user-netdelay`\\u6f14\\u7ec3\\u4e2d\\uff0c`user-64856bf58f-7zngw`\\u8282\\u70b9\\u7684CPU\\u4f7f\\u7528\\u7387\\u572813\\u65f624\\u520654\\u79d2\\u98d9\\u5347\\u81f326.0%\\uff0c\\u8fdc\\u4f4e\\u4e8e\\u8bbe\\u5b9a\\u7684\\u6700\\u5927\\u9608\\u503c80%\\uff0c\\u6b64\\u671f\\u671b\\u6ee1\\u8db3\\u3002\\n\\n#### \\u5546\\u54c1\\u76ee\\u5f55\\u6a21\\u5757\\n\\n- **\\u7f51\\u7edc\\u5e26\\u5bbd\\u63a5\\u6536\\uff08receiveBandwidth\\uff09**\\uff1a\\u5728`catalogue-netdelay`\\u6f14\\u7ec3\\u4e2d\\uff0c`catalogue-6bc98b6c5b-qlfh4`\\u8282\\u70b9\\u7684\\u63a5\\u6536\\u5e26\\u5bbd\\u572813\\u65f628\\u520624\\u79d2\\u5927\\u5e45\\u4e0a\\u5347\\uff0c\\u8fdd\\u53cd\\u4e86\\u7528\\u6237\\u671f\\u671b\\u4e2dreceiveBandwidth\\u5e94\\u4fdd\\u6301\\u5728\\u6b63\\u5e38\\u6c34\\u5e73\\u7684\\u8981\\u6c42\\u3002\\n- **\\u7f51\\u7edc\\u5e26\\u5bbd\\u53d1\\u9001\\uff08transmitBandwidth\\uff09**\\uff1a\\u540c\\u6837\\uff0c\\u5728`catalogue-netdelay`\\u6f14\\u7ec3\\u4e2d\\uff0c\\u53d1\\u9001\\u5e26\\u5bbd\\u572813\\u65f628\\u520624\\u79d2\\u663e\\u8457\\u4e0a\\u5347\\uff0c\\u8fdd\\u53cd\\u4e86\\u7528\\u6237\\u671f\\u671b\\u4e2dtransmitBandwidth\\u5e94\\u5728\\u6f14\\u7ec3\\u671f\\u95f4\\u4fdd\\u6301\\u7a33\\u5b9a\\u7684\\u8981\\u6c42\\u3002\\n- **\\u7f51\\u7edc\\u5305\\u63a5\\u6536\\uff08receivePackets\\uff09**\\uff1a`catalogue-6bc98b6c5b-qlfh4`\\u8282\\u70b9\\u572813\\u65f628\\u520624\\u79d2\\u63a5\\u6536\\u6570\\u636e\\u5305\\u6570\\u91cf\\u5927\\u5e45\\u4e0a\\u5347\\uff0c\\u8fdd\\u53cd\\u4e86\\u7528\\u6237\\u671f\\u671b\\u4e2dreceivePackets\\u5e94\\u4fdd\\u6301\\u5728\\u6b63\\u5e38\\u8303\\u56f4\\u5185\\u7684\\u8981\\u6c42\\u3002\\n- **\\u7f51\\u7edc\\u5305\\u53d1\\u9001\\uff08transmitPackets\\uff09**\\uff1a\\u540c\\u6837\\uff0c\\u572813\\u65f628\\u520624\\u79d2\\uff0c\\u53d1\\u9001\\u6570\\u636e\\u5305\\u6570\\u91cf\\u5927\\u5e45\\u4e0a\\u5347\\uff0c\\u8fdd\\u53cd\\u4e86\\u7528\\u6237\\u671f\\u671b\\u4e2dtransmitPackets\\u6570\\u5e94\\u4fdd\\u6301\\u7a33\\u5b9a\\u7684\\u8981\\u6c42\\u3002\\n\\n### \\u7cfb\\u7edf\\u95ee\\u9898\\u5206\\u6790\\n\\n- **CPU\\u4f7f\\u7528\\u7387\\u7a81\\u589e**\\uff1a\\u5728\\u6240\\u6709\\u6f14\\u7ec3\\u4e2d\\uff0c\\u7279\\u5b9a\\u65f6\\u523b\\u7684CPU\\u4f7f\\u7528\\u7387\\u7684\\u663e\\u8457\\u4e0a\\u5347\\u8868\\u660e\\uff0c\\u5f53\\u7cfb\\u7edf\\u9762\\u5bf9\\u6545\\u969c\\u65f6\\uff0c\\u8d44\\u6e90\\u5229\\u7528\\u7387\\u5927\\u5e45\\u63d0\\u9ad8\\u3002\\n- **\\u6570\\u636e\\u5305\\u6570\\u91cf\\u548c\\u5e26\\u5bbd\\u7684\\u5f02\\u5e38\\u589e\\u52a0**\\uff1a\\u7f51\\u7edc\\u6545\\u969c\\u6ce8\\u5165\\u53ef\\u80fd\\u5bfc\\u81f4\\u4e86\\u6570\\u636e\\u4f20\\u8f93\\u7684\\u4e0d\\u7a33\\u5b9a\\u6027\\uff0c\\u8fd9\\u53ef\\u80fd\\u6e90\\u4e8e\\u7f51\\u7edc\\u62e5\\u5835\\u6216\\u4e0d\\u6070\\u5f53\\u7684\\u6d41\\u91cf\\u7ba1\\u7406\\u7b56\\u7565\\u3002\\n- **\\u6f5c\\u5728\\u95ee\\u9898\\u7684\\u5177\\u4f53\\u4f4d\\u7f6e**\\uff1a\\u5728`user-netdelay`\\u6f14\\u7ec3\\u4e2d\\uff0c13\\u65f624\\u5206\\u7684\\u6570\\u636e\\u6ce2\\u52a8\\u7a81\\u51fa\\uff0c\\u663e\\u793a\\u4e86\\u7cfb\\u7edf\\u5728\\u5e94\\u5bf9\\u7f51\\u7edc\\u5ef6\\u8fdf\\u65f6\\u7684\\u8106\\u5f31\\u6027\\u3002\\u540c\\u6837\\uff0c\\u5728`frontend-netdelay`\\u548c`catalogue-netdelay`\\u6f14\\u7ec3\\u4e2d\\uff0c13\\u65f624\\u5206\\u81f313\\u65f628\\u5206\\u7684\\u6570\\u636e\\u6ce2\\u52a8\\u4e5f\\u6307\\u51fa\\u4e86\\u7f51\\u7edc\\u5ef6\\u8fdf\\u65b9\\u9762\\u7684\\u6f5c\\u5728\\u95ee\\u9898\\u3002\\n\\n\\u7efc\\u5408\\u6765\\u770b\\uff0c\\u8fd9\\u4e9b\\u6f14\\u7ec3\\u7ed3\\u679c\\u6307\\u51fa\\u4e86\\u7cfb\\u7edf\\u5728\\u5904\\u7406\\u7f51\\u7edc\\u5ef6\\u8fdf\\u65b9\\u9762\\u7684\\u6f5c\\u5728\\u7f3a\\u9677\\uff0c\\u63d0\\u793a\\u6211\\u4eec\\u9700\\u8981\\u8fdb\\u4e00\\u6b65\\u4f18\\u5316\\u7f51\\u7edc\\u6d41\\u91cf\\u7ba1\\u7406\\u548c\\u8d44\\u6e90\\u5206\\u914d\\u7b56\\u7565\\uff0c\\u4ee5\\u589e\\u5f3a\\u7cfb\\u7edf\\u7684\\u7a33\\u5b9a\\u6027\\u548c\\u9c81\\u68d2\\u6027\\u3002\"\n",
      "      },\n",
      "      \"finish_reason\": \"stop\"\n",
      "    }\n",
      "  ],\n",
      "  \"usage\": {\n",
      "    \"prompt_tokens\": 14038,\n",
      "    \"completion_tokens\": 1467,\n",
      "    \"total_tokens\": 15505\n",
      "  },\n",
      "  \"system_fingerprint\": \"fp_eeff13170a\"\n",
      "}\n",
      "# 故障注入测试报告分析\n",
      "\n",
      "## 概述\n",
      "\n",
      "此报告深入分析了涵盖`user-netdelay`、`frontend-netdelay`和`catalogue-netdelay`的三个核心故障注入演练。在这些演练中，我们专注于CPU使用率、数据包的接收与发送数量（receivePackets和transmitPackets）以及带宽（receiveBandwidth和transmitBandwidth）在关键时刻的表现，以评估系统在面对网络延迟时的表现。\n",
      "\n",
      "## 1. `user-netdelay` 演练分析\n",
      "\n",
      "### 数据趋势与峰值分析\n",
      "\n",
      "- **CPU使用率**：在13时24分54秒，CPU使用率急剧上升至26.0%，远超平时的波动范围（0.17%至0.36%）。\n",
      "- **数据包数量**：在13时24分54秒，接收数据包数量激增至73853个，发送数据包同一时间达到了102270个，远超平时的波动范围。\n",
      "- **带宽**：在13时24分54秒，接收带宽急剧上升至12.73MB，发送带宽也达到了20.34MB的顶峰。\n",
      "\n",
      "## 2. `frontend-netdelay` 演练分析\n",
      "\n",
      "### 数据趋势与峰值分析\n",
      "\n",
      "- **CPU使用率**：在13时24分至13时28分的短时间内，CPU使用率急速攀升至63.0%，远超平时的波动范围（0.26%至0.39%）。\n",
      "- **数据包数量**：在13时28分24秒，接收数据包数飙升至185449个，发送数据包数量也达到了235499个，远超平时的波动范围。\n",
      "- **带宽**：在13时28分24秒，接收带宽达到了586.14MB，发送带宽也高达189.87MB。\n",
      "\n",
      "## 3. `catalogue-netdelay` 演练分析\n",
      "\n",
      "### 数据趋势与峰值分析\n",
      "\n",
      "- **CPU使用率**：在13时24分至13时28分的短时间内，CPU使用率急速攀升至22.0%，远超平时的波动范围（0.16%至0.23%）。\n",
      "- **数据包数量**：在13时24分，接收数据包数量急剧上升至65566个，发送数据包数量也达到了92523个，远超平时的波动范围。\n",
      "- **带宽**：在13时28分24秒，接收带宽达到了586.14MB，发送带宽也达到了189.87MB的高点。\n",
      "\n",
      "## 总结与系统问题分析\n",
      "\n",
      "### 用户期望分析\n",
      "\n",
      "#### 登录模块\n",
      "\n",
      "- **CPU使用率**：在`user-netdelay`演练中，`user-64856bf58f-7zngw`节点的CPU使用率在13时24分54秒飙升至26.0%，远低于设定的最大阈值80%，此期望满足。\n",
      "\n",
      "#### 商品目录模块\n",
      "\n",
      "- **网络带宽接收（receiveBandwidth）**：在`catalogue-netdelay`演练中，`catalogue-6bc98b6c5b-qlfh4`节点的接收带宽在13时28分24秒大幅上升，违反了用户期望中receiveBandwidth应保持在正常水平的要求。\n",
      "- **网络带宽发送（transmitBandwidth）**：同样，在`catalogue-netdelay`演练中，发送带宽在13时28分24秒显著上升，违反了用户期望中transmitBandwidth应在演练期间保持稳定的要求。\n",
      "- **网络包接收（receivePackets）**：`catalogue-6bc98b6c5b-qlfh4`节点在13时28分24秒接收数据包数量大幅上升，违反了用户期望中receivePackets应保持在正常范围内的要求。\n",
      "- **网络包发送（transmitPackets）**：同样，在13时28分24秒，发送数据包数量大幅上升，违反了用户期望中transmitPackets数应保持稳定的要求。\n",
      "\n",
      "### 系统问题分析\n",
      "\n",
      "- **CPU使用率突增**：在所有演练中，特定时刻的CPU使用率的显著上升表明，当系统面对故障时，资源利用率大幅提高。\n",
      "- **数据包数量和带宽的异常增加**：网络故障注入可能导致了数据传输的不稳定性，这可能源于网络拥堵或不恰当的流量管理策略。\n",
      "- **潜在问题的具体位置**：在`user-netdelay`演练中，13时24分的数据波动突出，显示了系统在应对网络延迟时的脆弱性。同样，在`frontend-netdelay`和`catalogue-netdelay`演练中，13时24分至13时28分的数据波动也指出了网络延迟方面的潜在问题。\n",
      "\n",
      "综合来看，这些演练结果指出了系统在处理网络延迟方面的潜在缺陷，提示我们需要进一步优化网络流量管理和资源分配策略，以增强系统的稳定性和鲁棒性。\n"
     ]
    }
   ],
   "source": [
    "from prompt.prompt_by_cjx.utils.chatWithGPT import gpt_dialogue_from_messages\n",
    "\n",
    "ret = gpt_dialogue_from_messages(messages)\n",
    "print(ret)\n"
   ],
   "metadata": {
    "collapsed": false,
    "ExecuteTime": {
     "end_time": "2023-12-05T04:09:31.691934200Z",
     "start_time": "2023-12-05T04:08:57.422480400Z"
    }
   },
   "id": "b280ed388cba041f"
  }
 ],
 "metadata": {
  "kernelspec": {
   "display_name": "Python 3 (ipykernel)",
   "language": "python",
   "name": "python3"
  },
  "language_info": {
   "codemirror_mode": {
    "name": "ipython",
    "version": 3
   },
   "file_extension": ".py",
   "mimetype": "text/x-python",
   "name": "python",
   "nbconvert_exporter": "python",
   "pygments_lexer": "ipython3",
   "version": "3.11.4"
  }
 },
 "nbformat": 4,
 "nbformat_minor": 5
}
