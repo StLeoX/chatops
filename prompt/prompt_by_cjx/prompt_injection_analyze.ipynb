{
 "cells": [
  {
   "cell_type": "code",
   "execution_count": 1,
   "outputs": [
    {
     "name": "stdout",
     "output_type": "stream",
     "text": [
      "     pcost       dcost       gap    pres   dres\n",
      " 0: -2.6873e-01 -6.7301e-01  4e+00  2e+00  1e+00\n",
      " 1: -1.4232e-01 -5.9278e-01  5e-01  3e-16  6e-16\n",
      " 2: -2.3773e-01 -2.7513e-01  4e-02  6e-17  5e-16\n",
      " 3: -2.4959e-01 -2.5037e-01  8e-04  6e-17  4e-16\n",
      " 4: -2.5000e-01 -2.5000e-01  8e-06  6e-17  2e-16\n",
      " 5: -2.5000e-01 -2.5000e-01  8e-08  3e-17  3e-16\n",
      "Optimal solution found.\n",
      "Lagrange multipliers (alphas): [2.49999916e-01 8.17639192e-08 2.49999998e-01]\n",
      "w: [0.50000008 0.5       ]\n",
      "b: -2.0000002232258765\n"
     ]
    }
   ],
   "source": [
    "#!/usr/bin/env python\n",
    "# -*- coding: UTF-8 -*-\n",
    "from prompt.prompt_by_cjx.utils.token_utils import num_tokens_from_messages\n",
    "from prompt.prompt_by_cjx.utils.jsonStr import read_file"
   ],
   "metadata": {
    "collapsed": false,
    "ExecuteTime": {
     "end_time": "2023-12-07T03:31:16.033187300Z",
     "start_time": "2023-12-07T03:31:15.747233200Z"
    }
   },
   "id": "0865d136"
  },
  {
   "cell_type": "code",
   "execution_count": 2,
   "outputs": [
    {
     "name": "stdout",
     "output_type": "stream",
     "text": [
      "处理后后的token数量： 14168\n"
     ]
    }
   ],
   "source": [
    "from app.prompt.prompt_manager import get_messages_summary_fault_report\n",
    "\n",
    "# 读取数据\n",
    "user_expectation = read_file('D:\\MY_FILES\\Project\\Python\\chatops\\prompt\\prompt_by_cjx\\metadata\\expectation.txt')\n",
    "file_path = 'metadata/faultplayInfo.json'\n",
    "str = read_file(file_path)\n",
    "\n",
    "\n",
    "messages = get_messages_summary_fault_report(str, user_expectation)\n",
    "\n",
    "\n",
    "print(\"处理后后的token数量：\", num_tokens_from_messages(messages))"
   ],
   "metadata": {
    "collapsed": false,
    "ExecuteTime": {
     "end_time": "2023-12-07T03:31:18.562874Z",
     "start_time": "2023-12-07T03:31:16.036692800Z"
    }
   },
   "id": "a0fe66be559a5c8b"
  },
  {
   "cell_type": "code",
   "execution_count": 3,
   "outputs": [
    {
     "name": "stdout",
     "output_type": "stream",
     "text": [
      "{\n",
      "  \"id\": \"chatcmpl-8SzOqujNcDnQXTYAnJMsSSTnlgUbQ\",\n",
      "  \"object\": \"chat.completion\",\n",
      "  \"created\": 1701919896,\n",
      "  \"model\": \"gpt-3.5-turbo-1106\",\n",
      "  \"choices\": [\n",
      "    {\n",
      "      \"index\": 0,\n",
      "      \"message\": {\n",
      "        \"role\": \"assistant\",\n",
      "        \"content\": \"# \\u6545\\u969c\\u6ce8\\u5165\\u6d4b\\u8bd5\\u62a5\\u544a\\u5206\\u6790\\n\\n## \\u6982\\u8ff0\\n\\n\\u6b64\\u62a5\\u544a\\u6df1\\u5165\\u5206\\u6790\\u4e86\\u6db5\\u76d6`user-netdelay`\\u3001`frontend-netdelay`\\u548c`catalogue-netdelay`\\u7684\\u4e09\\u4e2a\\u6838\\u5fc3\\u6545\\u969c\\u6ce8\\u5165\\u6f14\\u7ec3\\u3002\\u5728\\u8fd9\\u4e9b\\u6f14\\u7ec3\\u4e2d\\uff0c\\u6211\\u4eec\\u4e13\\u6ce8\\u4e8eCPU\\u4f7f\\u7528\\u7387\\u3001\\u6570\\u636e\\u5305\\u7684\\u63a5\\u6536\\u4e0e\\u53d1\\u9001\\u6570\\u91cf\\uff08receivePackets\\u548ctransmitPackets\\uff09\\u4ee5\\u53ca\\u5e26\\u5bbd\\uff08receiveBandwidth\\u548ctransmitBandwidth\\uff09\\u5728\\u5173\\u952e\\u65f6\\u523b\\u7684\\u8868\\u73b0\\uff0c\\u4ee5\\u8bc4\\u4f30\\u7cfb\\u7edf\\u5728\\u9762\\u5bf9\\u7f51\\u7edc\\u5ef6\\u8fdf\\u65f6\\u7684\\u8868\\u73b0\\u3002\\n\\n## 1. `user-netdelay` \\u6f14\\u7ec3\\u5206\\u6790\\n\\n### 1. `user-netdelay` \\u6f14\\u7ec3\\n\\n-   **CPU\\u4f7f\\u7528\\u7387\\u5206\\u6790**\\uff1a\\n    \\n    -   \\u5728\\u6b63\\u5e38\\u60c5\\u51b5\\u4e0b\\uff0cCPU\\u4f7f\\u7528\\u7387\\u4fdd\\u6301\\u57280.17%\\u81f30.36%\\u7684\\u7a33\\u5b9a\\u8303\\u56f4\\u5185\\u3002\\n    -   \\u4f46\\u57282023-11-06 15:21:11\\uff0c\\u6211\\u4eec\\u89c2\\u5bdf\\u5230\\u4e00\\u4e2a\\u5f02\\u5e38\\u5cf0\\u503c\\uff0cCPU\\u4f7f\\u7528\\u7387\\u7a81\\u7136\\u98d9\\u5347\\u81f326.0%\\uff0c\\u6301\\u7eed\\u4e86\\u5927\\u7ea610\\u79d2\\uff0c\\u8fd9\\u662f\\u4e00\\u4e2a\\u663e\\u8457\\u7684\\u5f02\\u5e38\\u8868\\u73b0\\u3002\\n-   **\\u6570\\u636e\\u5305\\u5904\\u7406\\uff08receivePackets\\u548ctransmitPackets\\uff09**\\uff1a\\n    \\n    -   \\u6b63\\u5e38\\u72b6\\u6001\\u4e0b\\uff0c\\u63a5\\u6536\\u7684\\u6570\\u636e\\u5305\\u6570\\u91cf\\u5728343\\u81f3910\\u4e2a\\u4e4b\\u95f4\\u6ce2\\u52a8\\uff0c\\u53d1\\u9001\\u7684\\u6570\\u636e\\u5305\\u6570\\u91cf\\u5728293\\u81f3916\\u4e2a\\u4e4b\\u95f4\\u3002\\n    -   \\u7136\\u800c\\uff0c\\u57282023-11-06 15:21:21\\uff0c\\u63a5\\u6536\\u6570\\u636e\\u5305\\u6570\\u91cf\\u6fc0\\u589e\\u81f373853\\u4e2a\\uff0c\\u800c\\u53d1\\u9001\\u6570\\u636e\\u5305\\u6570\\u91cf\\u4e5f\\u540c\\u6b65\\u4e0a\\u5347\\u81f3102270\\u4e2a\\uff0c\\u6301\\u7eed\\u4e86\\u7ea613\\u79d2\\uff0c\\u8868\\u660e\\u4e86\\u4e00\\u4e2a\\u660e\\u663e\\u7684\\u7f51\\u7edc\\u6d41\\u91cf\\u5f02\\u5e38\\u3002\\n-   **\\u5e26\\u5bbd\\u4f7f\\u7528\\uff08receiveBandwidth\\u548ctransmitBandwidth\\uff09**\\uff1a\\n    \\n    -   \\u5728\\u65e5\\u5e38\\u8fd0\\u884c\\u4e2d\\uff0c\\u63a5\\u6536\\u5e26\\u5bbd\\u7ef4\\u6301\\u572831.5kB\\u81f380.3kB\\uff0c\\u53d1\\u9001\\u5e26\\u5bbd\\u572834.5kB\\u81f3101.7kB\\u3002\\n    -   \\u4f462023-11-06 15:21:06\\u53d1\\u751f\\u4e86\\u663e\\u8457\\u53d8\\u5316\\uff0c\\u63a5\\u6536\\u5e26\\u5bbd\\u6025\\u5267\\u4e0a\\u5347\\u81f312.73MB\\uff0c\\u53d1\\u9001\\u5e26\\u5bbd\\u4e5f\\u8fbe\\u5230\\u4e8620.34MB\\uff0c\\u8fd9\\u4e00\\u5f02\\u5e38\\u72b6\\u6001\\u6301\\u7eed\\u4e86\\u7ea615\\u79d2\\uff0c\\u663e\\u793a\\u4e86\\u7f51\\u7edc\\u5ef6\\u8fdf\\u7684\\u663e\\u8457\\u5f71\\u54cd\\u3002\\n\\n## 2. `frontend-netdelay` \\u6f14\\u7ec3\\u5206\\u6790\\n\\n### 2. `frontend-netdelay` \\u6f14\\u7ec3\\n\\n-   **CPU\\u4f7f\\u7528\\u7387\\u5206\\u6790**\\uff1a\\n    \\n    -   \\u5e73\\u65f6CPU\\u4f7f\\u7528\\u7387\\u57280.26%\\u81f30.39%\\u4e4b\\u95f4\\u6ce2\\u52a8\\u3002\\n    -   \\u4f46\\u57282023-11-06 15:21:32\\uff0c\\u51fa\\u73b0\\u4e86\\u5f02\\u5e38\\uff0cCPU\\u4f7f\\u7528\\u7387\\u6025\\u5347\\u81f363.0%\\uff0c\\u5e76\\u5728\\u5927\\u7ea640\\u79d2\\u540e\\u6062\\u590d\\u6b63\\u5e38\\uff0c\\u8fd9\\u8868\\u660e\\u4e86\\u663e\\u8457\\u7684\\u6027\\u80fd\\u6ce2\\u52a8\\u3002\\n-   **\\u6570\\u636e\\u5305\\u5904\\u7406\\uff08receivePackets\\u548ctransmitPackets\\uff09**\\uff1a\\n    \\n    -   \\u6b63\\u5e38\\u60c5\\u51b5\\u4e0b\\uff0c\\u63a5\\u6536\\u548c\\u53d1\\u9001\\u6570\\u636e\\u5305\\u6570\\u91cf\\u5206\\u522b\\u7ef4\\u6301\\u5728266\\u81f3696\\u4e2a\\u548c233\\u81f3603\\u4e2a\\u4e4b\\u95f4\\u3002\\n    -   \\u7136\\u800c\\uff0c\\u57282023-11-06 15:21:22\\uff0c\\u63a5\\u6536\\u6570\\u636e\\u5305\\u6570\\u91cf\\u98d9\\u5347\\u81f3185449\\u4e2a\\uff0c\\u53d1\\u9001\\u6570\\u636e\\u5305\\u6570\\u91cf\\u4e5f\\u589e\\u81f3235499\\u4e2a\\uff0c\\u6301\\u7eed\\u4e86\\u7ea632\\u79d2\\uff0c\\u53cd\\u6620\\u51fa\\u7f51\\u7edc\\u5ef6\\u8fdf\\u5f15\\u8d77\\u7684\\u663e\\u8457\\u6d41\\u91cf\\u589e\\u52a0\\u3002\\n-   **\\u5e26\\u5bbd\\u4f7f\\u7528\\uff08receiveBandwidth\\u548ctransmitBandwidth\\uff09**\\uff1a\\n    \\n    -   \\u901a\\u5e38\\u63a5\\u6536\\u5e26\\u5bbd\\u572820.9kB\\u81f355.7kB\\u4e4b\\u95f4\\uff0c\\u53d1\\u9001\\u5e26\\u5bbd\\u572831.5kB\\u81f381.9kB\\u3002\\n    -   \\u4f46\\u57282023-11-06 15:21:22\\uff0c\\u63a5\\u6536\\u5e26\\u5bbd\\u98d9\\u5347\\u81f3586.14MB\\uff0c\\u53d1\\u9001\\u5e26\\u5bbd\\u4e5f\\u8fbe\\u5230\\u4e86189.87MB\\uff0c\\u8fd9\\u79cd\\u5f02\\u5e38\\u72b6\\u6001\\u6301\\u7eed\\u4e86\\u7ea632\\u79d2\\uff0c\\u8868\\u660e\\u4e86\\u7f51\\u7edc\\u5ef6\\u8fdf\\u5bf9\\u5e26\\u5bbd\\u7684\\u5de8\\u5927\\u5f71\\u54cd\\u3002\\n\\n## 3. `catalogue-netdelay` \\u6f14\\u7ec3\\u5206\\u6790\\n\\n### 3. `catalogue-netdelay` \\u6f14\\u7ec3\\n\\n-   **CPU\\u4f7f\\u7528\\u7387\\u5206\\u6790**\\uff1a\\n    \\n    -   \\u4e00\\u822c\\u6765\\u8bf4\\uff0cCPU\\u4f7f\\u7528\\u7387\\u4fdd\\u6301\\u57280.16%\\u81f30.23%\\u4e4b\\u95f4\\u3002\\n    -   \\u4f46\\u57282023-11-06 15:21:31\\uff0c\\u51fa\\u73b0\\u4e86\\u663e\\u8457\\u6ce2\\u52a8\\uff0cCPU\\u4f7f\\u7528\\u7387\\u5347\\u81f322.0%\\uff0c\\u8fd9\\u4e00\\u5f02\\u5e38\\u6301\\u7eed\\u4e86\\u7ea645\\u79d2\\uff0c\\u663e\\u793a\\u4e86\\u5904\\u7406\\u80fd\\u529b\\u7684\\u4e34\\u65f6\\u538b\\u529b\\u3002\\n-   **\\u6570\\u636e\\u5305\\u5904\\u7406\\uff08receivePackets\\u548ctransmitPackets\\uff09**\\uff1a\\n    \\n    -   \\u6b63\\u5e38\\u8fd0\\u884c\\u65f6\\uff0c\\u63a5\\u6536\\u548c\\u53d1\\u9001\\u6570\\u636e\\u5305\\u6570\\u91cf\\u76f8\\u5bf9\\u5e73\\u7a33\\u3002\\n    -   \\u5f02\\u5e38\\u51fa\\u73b0\\u57282023-11-06 15:21:46\\uff0c\\u63a5\\u6536\\u6570\\u636e\\u5305\\u6570\\u91cf\\u589e\\u81f365566\\u4e2a\\uff0c\\u53d1\\u9001\\u6570\\u636e\\u5305\\u8fbe\\u523092523\\u4e2a\\uff0c\\u8fd9\\u4e00\\u53d8\\u5316\\u6301\\u7eed\\u4e86\\u7ea638\\u79d2\\uff0c\\u53cd\\u6620\\u4e86\\u7f51\\u7edc\\u5ef6\\u8fdf\\u671f\\u95f4\\u6570\\u636e\\u5305\\u5904\\u7406\\u7684\\u663e\\u8457\\u53d8\\u5316\\u3002\\n-   **\\u5e26\\u5bbd\\u4f7f\\u7528\\uff08receiveBandwidth\\u548ctransmitBandwidth\\uff09**\\uff1a\\n    \\n    -   \\u5728\\u6b63\\u5e38\\u60c5\\u51b5\\u4e0b\\uff0c\\u63a5\\u6536\\u5e26\\u5bbd\\u548c\\u53d1\\u9001\\u5e26\\u5bbd\\u4fdd\\u6301\\u7a33\\u5b9a\\u3002\\n    -   \\u4f46\\u57282023-11-06 15:21:06\\uff0c\\u5e26\\u5bbd\\u4f7f\\u7528\\u53d1\\u751f\\u4e86\\u663e\\u8457\\u53d8\\u5316\\uff0c\\u63a5\\u6536\\u5e26\\u5bbd\\u8fbe\\u5230\\u4e86586.14MB\\uff0c\\u53d1\\u9001\\u5e26\\u5bbd\\u4e3a189.87MB\\uff0c\\u8fd9\\u4e00\\u72b6\\u6001\\u6301\\u7eed\\u4e86\\u7ea640\\u79d2\\uff0c\\u51f8\\u663e\\u4e86\\u5e26\\u5bbd\\u4f7f\\u7528\\u5728\\u7f51\\u7edc\\u5ef6\\u8fdf\\u671f\\u95f4\\u7684\\u5f02\\u5e38\\u8868\\u73b0\\u3002\\n\\n## \\u603b\\u7ed3\\u4e0e\\u7cfb\\u7edf\\u95ee\\u9898\\u5206\\u6790\\n\\n### \\u7528\\u6237\\u671f\\u671b\\u5206\\u6790\\n\\n#### \\u767b\\u5f55\\u6a21\\u5757\\n\\n-   **CPU\\u4f7f\\u7528\\u7387**\\uff1a\\u5728`user-netdelay`\\u6f14\\u7ec3\\u4e2d\\uff0c`user-64856bf58f-7zngw`\\u8282\\u70b9\\u7684CPU\\u4f7f\\u7528\\u7387\\u57282023-11-06 15:21:11\\u98d9\\u5347\\u81f326.0%\\uff0c\\u8fdc\\u4f4e\\u4e8e\\u8bbe\\u5b9a\\u7684\\u6700\\u5927\\u9608\\u503c80%\\uff0c\\u6b64\\u671f\\u671b\\u6ee1\\u8db3\\u3002\\n\\n#### \\u5546\\u54c1\\u76ee\\u5f55\\u6a21\\u5757\\n\\n-   **\\u7f51\\u7edc\\u5e26\\u5bbd\\u63a5\\u6536\\uff08receiveBandwidth\\uff09**\\uff1a\\u5728`catalogue-netdelay`\\u6f14\\u7ec3\\u4e2d\\uff0c`catalogue-6bc98b6c5b-qlfh4`\\u8282\\u70b9\\u7684\\u63a5\\u6536\\u5e26\\u5bbd\\u57282023-11-06 15:21:21\\u5927\\u5e45\\u4e0a\\u5347\\uff0c\\u8fdc\\u8d85\\u6b63\\u5e38\\u6c34\\u5e73\\u3002\\u8fd9\\u8868\\u660ereceiveBandwidth\\u5728\\u7f51\\u7edc\\u5ef6\\u8fdf\\u671f\\u95f4\\u6ca1\\u6709\\u4fdd\\u6301\\u5728\\u6b63\\u5e38\\u6c34\\u5e73\\u7684\\u00b120%\\u4ee5\\u5185\\uff0c\\u4e0d\\u7b26\\u5408\\u7528\\u6237\\u671f\\u671b\\u3002\\n-   **\\u7f51\\u7edc\\u5e26\\u5bbd\\u53d1\\u9001\\uff08transmitBandwidth\\uff09**\\uff1a\\u540c\\u6837\\uff0c\\u5728`catalogue-netdelay`\\u6f14\\u7ec3\\u4e2d\\uff0c\\u53d1\\u9001\\u5e26\\u5bbd\\u57282023-11-06 15:21:31\\u663e\\u8457\\u4e0a\\u5347\\uff0c\\u8fdd\\u53cd\\u4e86\\u7528\\u6237\\u671f\\u671b\\u4e2dtransmitBandwidth\\u5e94\\u5728\\u6f14\\u7ec3\\u671f\\u95f4\\u4fdd\\u6301\\u7a33\\u5b9a\\u7684\\u8981\\u6c42\\u3002\\n-   **\\u7f51\\u7edc\\u5305\\u63a5\\u6536\\uff08receivePackets\\uff09**\\uff1a`catalogue-6bc98b6c5b-qlfh4`\\u8282\\u70b9\\u57282023-11-06 15:21:32\\u63a5\\u6536\\u6570\\u636e\\u5305\\u6570\\u91cf\\u5927\\u5e45\\u4e0a\\u5347\\uff0c\\u8fdc\\u8d85\\u6b63\\u5e38\\u8303\\u56f4\\uff0c\\u4e0d\\u7b26\\u5408\\u7528\\u6237\\u671f\\u671b\\u4e2dreceivePackets\\u5e94\\u4fdd\\u6301\\u5728\\u6b63\\u5e38\\u8303\\u56f4\\u5185\\u7684\\u8981\\u6c42\\u3002\\n-   **\\u7f51\\u7edc\\u5305\\u53d1\\u9001\\uff08transmitPackets\\uff09**\\uff1a\\u540c\\u6837\\uff0c\\u57282023-11-06 15:21:44\\uff0c\\u53d1\\u9001\\u6570\\u636e\\u5305\\u6570\\u91cf\\u5927\\u5e45\\u4e0a\\u5347\\uff0c\\u8d85\\u51fa\\u6b63\\u5e38\\u8303\\u56f4\\uff0c\\u8fdd\\u53cd\\u4e86\\u7528\\u6237\\u671f\\u671b\\u4e2dtransmitPackets\\u6570\\u5e94\\u4fdd\\u6301\\u7a33\\u5b9a\\u7684\\u8981\\u6c42\\u3002\\n\\n### \\u7cfb\\u7edf\\u95ee\\u9898\\u5206\\u6790\\n\\n-   **CPU\\u4f7f\\u7528\\u7387\\u7a81\\u589e**\\uff1a\\u5728\\u6240\\u6709\\u6f14\\u7ec3\\u4e2d\\uff0c\\u7279\\u5b9a\\u65f6\\u523b\\u7684CPU\\u4f7f\\u7528\\u7387\\u7684\\u663e\\u8457\\u4e0a\\u5347\\u8868\\u660e\\uff0c\\u5f53\\u7cfb\\u7edf\\u9762\\u5bf9\\u6545\\u969c\\u65f6\\uff0c\\u8d44\\u6e90\\u5229\\u7528\\u7387\\u5927\\u5e45\\u63d0\\u9ad8\\u3002\\n-   **\\u6570\\u636e\\u5305\\u6570\\u91cf\\u548c\\u5e26\\u5bbd\\u7684\\u5f02\\u5e38\\u589e\\u52a0**\\uff1a\\u7f51\\u7edc\\u6545\\u969c\\u6ce8\\u5165\\u53ef\\u80fd\\u5bfc\\u81f4\\u4e86\\u6570\\u636e\\u4f20\\u8f93\\u7684\\u4e0d\\u7a33\\u5b9a\\u6027\\uff0c\\u8fd9\\u53ef\\u80fd\\u6e90\\u4e8e\\u7f51\\u7edc\\u62e5\\u5835\\u6216\\u4e0d\\u6070\\u5f53\\u7684\\u6d41\\u91cf\\u7ba1\\u7406\\u7b56\\u7565\\u3002\\n-   **\\u6f5c\\u5728\\u95ee\\u9898\\u7684\\u5177\\u4f53\\u4f4d\\u7f6e**\\uff1a\\u5728`user-netdelay`\\u6f14\\u7ec3\\u4e2d\\uff0c2023-11-06 15:21:11\\u7684\\u6570\\u636e\\u6ce2\\u52a8\\u7a81\\u51fa\\uff0c\\u663e\\u793a\\u4e86\\u7cfb\\u7edf\\u5728\\u5e94\\u5bf9\\u7f51\\u7edc\\u5ef6\\u8fdf\\u65f6\\u7684\\u8106\\u5f31\\u6027\\u3002\\u540c\\u6837\\uff0c\\u5728`frontend-netdelay`\\u548c`catalogue-netdelay`\\u6f14\\u7ec3\\u4e2d\\uff0c2023-11-06 15:21:48\\u81f32023-11-06 15:24:48\\u7684\\u6570\\u636e\\u6ce2\\u52a8\\u4e5f\\u6307\\u51fa\\u4e86\\u7f51\\u7edc\\u5ef6\\u8fdf\\u65b9\\u9762\\u7684\\u6f5c\\u5728\\u95ee\\u9898\\u3002\\n\\n\\u7efc\\u5408\\u6765\\u770b\\uff0c\\u8fd9\\u4e9b\\u6f14\\u7ec3\\u7ed3\\u679c\\u6307\\u51fa\\u4e86\\u7cfb\\u7edf\\u5728\\u5904\\u7406\\u7f51\\u7edc\\u5ef6\\u8fdf\\u65b9\\u9762\\u7684\\u6f5c\\u5728\\u7f3a\\u9677\\uff0c\\u63d0\\u793a\\u6211\\u4eec\\u9700\\u8981\\u8fdb\\u4e00\\u6b65\\u4f18\\u5316\\u7f51\\u7edc\\u6d41\\u91cf\\u7ba1\\u7406\\u548c\\u8d44\\u6e90\\u5206\\u914d\\u7b56\\u7565\\uff0c\\u4ee5\\u589e\\u5f3a\\u7cfb\\u7edf\\u7684\\u7a33\\u5b9a\\u6027\\u548c\\u9c81\\u68d2\\u6027\"\n",
      "      },\n",
      "      \"finish_reason\": \"length\"\n",
      "    }\n",
      "  ],\n",
      "  \"usage\": {\n",
      "    \"prompt_tokens\": 14164,\n",
      "    \"completion_tokens\": 2222,\n",
      "    \"total_tokens\": 16386\n",
      "  },\n",
      "  \"system_fingerprint\": \"fp_eeff13170a\"\n",
      "}\n",
      "# 故障注入测试报告分析\n",
      "\n",
      "## 概述\n",
      "\n",
      "此报告深入分析了涵盖`user-netdelay`、`frontend-netdelay`和`catalogue-netdelay`的三个核心故障注入演练。在这些演练中，我们专注于CPU使用率、数据包的接收与发送数量（receivePackets和transmitPackets）以及带宽（receiveBandwidth和transmitBandwidth）在关键时刻的表现，以评估系统在面对网络延迟时的表现。\n",
      "\n",
      "## 1. `user-netdelay` 演练分析\n",
      "\n",
      "### 1. `user-netdelay` 演练\n",
      "\n",
      "-   **CPU使用率分析**：\n",
      "    \n",
      "    -   在正常情况下，CPU使用率保持在0.17%至0.36%的稳定范围内。\n",
      "    -   但在2023-11-06 15:21:11，我们观察到一个异常峰值，CPU使用率突然飙升至26.0%，持续了大约10秒，这是一个显著的异常表现。\n",
      "-   **数据包处理（receivePackets和transmitPackets）**：\n",
      "    \n",
      "    -   正常状态下，接收的数据包数量在343至910个之间波动，发送的数据包数量在293至916个之间。\n",
      "    -   然而，在2023-11-06 15:21:21，接收数据包数量激增至73853个，而发送数据包数量也同步上升至102270个，持续了约13秒，表明了一个明显的网络流量异常。\n",
      "-   **带宽使用（receiveBandwidth和transmitBandwidth）**：\n",
      "    \n",
      "    -   在日常运行中，接收带宽维持在31.5kB至80.3kB，发送带宽在34.5kB至101.7kB。\n",
      "    -   但2023-11-06 15:21:06发生了显著变化，接收带宽急剧上升至12.73MB，发送带宽也达到了20.34MB，这一异常状态持续了约15秒，显示了网络延迟的显著影响。\n",
      "\n",
      "## 2. `frontend-netdelay` 演练分析\n",
      "\n",
      "### 2. `frontend-netdelay` 演练\n",
      "\n",
      "-   **CPU使用率分析**：\n",
      "    \n",
      "    -   平时CPU使用率在0.26%至0.39%之间波动。\n",
      "    -   但在2023-11-06 15:21:32，出现了异常，CPU使用率急升至63.0%，并在大约40秒后恢复正常，这表明了显著的性能波动。\n",
      "-   **数据包处理（receivePackets和transmitPackets）**：\n",
      "    \n",
      "    -   正常情况下，接收和发送数据包数量分别维持在266至696个和233至603个之间。\n",
      "    -   然而，在2023-11-06 15:21:22，接收数据包数量飙升至185449个，发送数据包数量也增至235499个，持续了约32秒，反映出网络延迟引起的显著流量增加。\n",
      "-   **带宽使用（receiveBandwidth和transmitBandwidth）**：\n",
      "    \n",
      "    -   通常接收带宽在20.9kB至55.7kB之间，发送带宽在31.5kB至81.9kB。\n",
      "    -   但在2023-11-06 15:21:22，接收带宽飙升至586.14MB，发送带宽也达到了189.87MB，这种异常状态持续了约32秒，表明了网络延迟对带宽的巨大影响。\n",
      "\n",
      "## 3. `catalogue-netdelay` 演练分析\n",
      "\n",
      "### 3. `catalogue-netdelay` 演练\n",
      "\n",
      "-   **CPU使用率分析**：\n",
      "    \n",
      "    -   一般来说，CPU使用率保持在0.16%至0.23%之间。\n",
      "    -   但在2023-11-06 15:21:31，出现了显著波动，CPU使用率升至22.0%，这一异常持续了约45秒，显示了处理能力的临时压力。\n",
      "-   **数据包处理（receivePackets和transmitPackets）**：\n",
      "    \n",
      "    -   正常运行时，接收和发送数据包数量相对平稳。\n",
      "    -   异常出现在2023-11-06 15:21:46，接收数据包数量增至65566个，发送数据包达到92523个，这一变化持续了约38秒，反映了网络延迟期间数据包处理的显著变化。\n",
      "-   **带宽使用（receiveBandwidth和transmitBandwidth）**：\n",
      "    \n",
      "    -   在正常情况下，接收带宽和发送带宽保持稳定。\n",
      "    -   但在2023-11-06 15:21:06，带宽使用发生了显著变化，接收带宽达到了586.14MB，发送带宽为189.87MB，这一状态持续了约40秒，凸显了带宽使用在网络延迟期间的异常表现。\n",
      "\n",
      "## 总结与系统问题分析\n",
      "\n",
      "### 用户期望分析\n",
      "\n",
      "#### 登录模块\n",
      "\n",
      "-   **CPU使用率**：在`user-netdelay`演练中，`user-64856bf58f-7zngw`节点的CPU使用率在2023-11-06 15:21:11飙升至26.0%，远低于设定的最大阈值80%，此期望满足。\n",
      "\n",
      "#### 商品目录模块\n",
      "\n",
      "-   **网络带宽接收（receiveBandwidth）**：在`catalogue-netdelay`演练中，`catalogue-6bc98b6c5b-qlfh4`节点的接收带宽在2023-11-06 15:21:21大幅上升，远超正常水平。这表明receiveBandwidth在网络延迟期间没有保持在正常水平的±20%以内，不符合用户期望。\n",
      "-   **网络带宽发送（transmitBandwidth）**：同样，在`catalogue-netdelay`演练中，发送带宽在2023-11-06 15:21:31显著上升，违反了用户期望中transmitBandwidth应在演练期间保持稳定的要求。\n",
      "-   **网络包接收（receivePackets）**：`catalogue-6bc98b6c5b-qlfh4`节点在2023-11-06 15:21:32接收数据包数量大幅上升，远超正常范围，不符合用户期望中receivePackets应保持在正常范围内的要求。\n",
      "-   **网络包发送（transmitPackets）**：同样，在2023-11-06 15:21:44，发送数据包数量大幅上升，超出正常范围，违反了用户期望中transmitPackets数应保持稳定的要求。\n",
      "\n",
      "### 系统问题分析\n",
      "\n",
      "-   **CPU使用率突增**：在所有演练中，特定时刻的CPU使用率的显著上升表明，当系统面对故障时，资源利用率大幅提高。\n",
      "-   **数据包数量和带宽的异常增加**：网络故障注入可能导致了数据传输的不稳定性，这可能源于网络拥堵或不恰当的流量管理策略。\n",
      "-   **潜在问题的具体位置**：在`user-netdelay`演练中，2023-11-06 15:21:11的数据波动突出，显示了系统在应对网络延迟时的脆弱性。同样，在`frontend-netdelay`和`catalogue-netdelay`演练中，2023-11-06 15:21:48至2023-11-06 15:24:48的数据波动也指出了网络延迟方面的潜在问题。\n",
      "\n",
      "综合来看，这些演练结果指出了系统在处理网络延迟方面的潜在缺陷，提示我们需要进一步优化网络流量管理和资源分配策略，以增强系统的稳定性和鲁棒性\n"
     ]
    }
   ],
   "source": [
    "from prompt.prompt_by_cjx.utils.chatWithGPT import gpt_dialogue_from_messages\n",
    "\n",
    "ret = gpt_dialogue_from_messages(messages)\n",
    "print(ret)"
   ],
   "metadata": {
    "collapsed": false,
    "ExecuteTime": {
     "end_time": "2023-12-07T03:32:00.389865200Z",
     "start_time": "2023-12-07T03:31:18.559657900Z"
    }
   },
   "id": "b280ed388cba041f"
  }
 ],
 "metadata": {
  "kernelspec": {
   "display_name": "Python 3 (ipykernel)",
   "language": "python",
   "name": "python3"
  },
  "language_info": {
   "codemirror_mode": {
    "name": "ipython",
    "version": 3
   },
   "file_extension": ".py",
   "mimetype": "text/x-python",
   "name": "python",
   "nbconvert_exporter": "python",
   "pygments_lexer": "ipython3",
   "version": "3.11.4"
  }
 },
 "nbformat": 4,
 "nbformat_minor": 5
}
