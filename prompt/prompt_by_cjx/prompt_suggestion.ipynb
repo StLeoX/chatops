{
 "cells": [
  {
   "cell_type": "code",
   "execution_count": 10,
   "id": "initial_id",
   "metadata": {
    "collapsed": true,
    "ExecuteTime": {
     "end_time": "2023-12-05T05:14:15.745480100Z",
     "start_time": "2023-12-05T05:14:15.738185Z"
    }
   },
   "outputs": [],
   "source": [
    "#!/usr/bin/env python\n",
    "# -*- coding: UTF-8 -*-"
   ]
  },
  {
   "cell_type": "code",
   "execution_count": 11,
   "outputs": [
    {
     "name": "stdout",
     "output_type": "stream",
     "text": [
      "5995\n"
     ]
    }
   ],
   "source": [
    "from prompt.prompt_by_cjx.utils.chatWithGPT import gpt_create_messages_suggestion, gpt_dialogue_from_messages\n",
    "#!/usr/bin/env python\n",
    "# -*- coding: UTF-8 -*-\n",
    "from prompt.prompt_by_cjx.utils.jsonStr import read_file\n",
    "import pystache\n",
    "\n",
    "# 读取数据\n",
    "\n",
    "# 提示词\n",
    "prompt = read_file('metadata/prompt4/prompt.md')\n",
    "\n",
    "# 案例\n",
    "example = read_file('metadata/prompt4/example.md')\n",
    "# 用户期望\n",
    "expectation = read_file('metadata/expectation.txt')\n",
    "# 由GPT生成的演练总结\n",
    "fault_report = read_file('metadata/prompt3/response-ch.md')\n",
    "# 演练流程描述\n",
    "fault_desc = read_file('metadata/prompt4/workflowdesc.md')\n",
    "\n",
    "# 定义 Mustache 模板\n",
    "template = prompt\n",
    "\n",
    "# 准备要插入的数据\n",
    "data = {'work_flow': fault_desc,\n",
    "        'user_expectation': expectation,\n",
    "        'fault_report': fault_desc,\n",
    "        'example': example\n",
    "        }\n",
    "\n",
    "# 渲染模板并打印输出\n",
    "prompt = pystache.render(template, data)\n",
    "messages = gpt_create_messages_suggestion(prompt)\n",
    "\n",
    "print(prompt)\n"
   ],
   "metadata": {
    "collapsed": false,
    "ExecuteTime": {
     "end_time": "2023-12-05T05:14:15.773509700Z",
     "start_time": "2023-12-05T05:14:15.745480100Z"
    }
   },
   "id": "d9272c433ed1d9b8"
  },
  {
   "cell_type": "code",
   "execution_count": 12,
   "outputs": [
    {
     "name": "stdout",
     "output_type": "stream",
     "text": [
      "{\n",
      "  \"id\": \"chatcmpl-8SI3JerCHXrMT8jzlt0dGCVBJ4T1z\",\n",
      "  \"object\": \"chat.completion\",\n",
      "  \"created\": 1701753269,\n",
      "  \"model\": \"gpt-3.5-turbo-1106\",\n",
      "  \"choices\": [\n",
      "    {\n",
      "      \"index\": 0,\n",
      "      \"message\": {\n",
      "        \"role\": \"assistant\",\n",
      "        \"content\": \"\\u6839\\u636e\\u60a8\\u63d0\\u4f9b\\u7684\\u6545\\u969c\\u6ce8\\u5165\\u6d4b\\u8bd5\\u6570\\u636e\\u548c\\u7528\\u6237\\u671f\\u671b\\uff0c\\u4ee5\\u4e0b\\u662f\\u4e00\\u7cfb\\u5217\\u7684\\u7cfb\\u7edf\\u4f18\\u5316\\u5efa\\u8bae\\uff0c\\u65e8\\u5728\\u63d0\\u9ad8\\u7cfb\\u7edf\\u6027\\u80fd\\uff0c\\u786e\\u4fdd\\u5b83\\u4eec\\u7b26\\u5408\\u6216\\u8d85\\u8fc7\\u7528\\u6237\\u7684\\u671f\\u671b\\uff1a\\n\\n### \\u767b\\u5f55\\u6a21\\u5757\\u4f18\\u5316\\n\\n1.  **CPU\\u4f7f\\u7528\\u7387**\\uff1a\\u4e3a\\u4e86\\u8fdb\\u4e00\\u6b65\\u4f18\\u5316\\u6027\\u80fd\\u548c\\u54cd\\u5e94\\u65f6\\u95f4\\uff0c\\u5efa\\u8bae\\u5bf9\\u767b\\u5f55\\u6a21\\u5757\\u8fdb\\u884c\\u8d44\\u6e90\\u5206\\u914d\\u4f18\\u5316\\u3002\\u53ef\\u4ee5\\u8003\\u8651\\u5b9e\\u65bd\\u52a8\\u6001\\u8d44\\u6e90\\u5206\\u914d\\u7b56\\u7565\\uff0c\\u6839\\u636e\\u8d1f\\u8f7d\\u60c5\\u51b5\\u81ea\\u52a8\\u8c03\\u6574\\u8d44\\u6e90\\u5206\\u914d\\uff0c\\u786e\\u4fdd\\u6709\\u8db3\\u591f\\u7684CPU\\u8d44\\u6e90\\u6765\\u5904\\u7406\\u9ad8\\u5cf0\\u671f\\u7684\\u8bf7\\u6c42\\u3002\\n    \\n2.  **TPS\\u548c\\u6210\\u529f\\u7387**\\uff1a\\u63d0\\u9ad8\\u6bcf\\u79d2\\u4e8b\\u52a1\\u6570(TPS)\\u548c\\u767b\\u5f55\\u8bf7\\u6c42\\u7684\\u6210\\u529f\\u7387\\u53ef\\u4ee5\\u901a\\u8fc7\\u589e\\u5f3a\\u670d\\u52a1\\u5668\\u7684\\u5904\\u7406\\u80fd\\u529b\\u548c\\u7f51\\u7edc\\u5e26\\u5bbd\\u5b9e\\u73b0\\u3002\\u8003\\u8651\\u4f7f\\u7528\\u8d1f\\u8f7d\\u5747\\u8861\\u548c\\u66f4\\u9ad8\\u6548\\u7684\\u8bf7\\u6c42\\u5904\\u7406\\u7b97\\u6cd5\\u6765\\u63d0\\u9ad8\\u5904\\u7406\\u80fd\\u529b\\u3002\\u540c\\u65f6\\uff0c\\u4f18\\u5316\\u540e\\u7aef\\u670d\\u52a1\\u7684\\u5904\\u7406\\u903b\\u8f91\\uff0c\\u51cf\\u5c11\\u4e0d\\u5fc5\\u8981\\u7684\\u6570\\u636e\\u5e93\\u67e5\\u8be2\\u548c\\u8ba1\\u7b97\\uff0c\\u4ece\\u800c\\u63d0\\u5347\\u8bf7\\u6c42\\u7684\\u5904\\u7406\\u901f\\u5ea6\\u548c\\u6210\\u529f\\u7387\\u3002\\n    \\n3.  **\\u54cd\\u5e94\\u65f6\\u95f4\\u4f18\\u5316**\\uff1a\\u9488\\u5bf9\\u54cd\\u5e94\\u65f6\\u95f4\\u7684\\u4f18\\u5316\\uff0c\\u53ef\\u4ee5\\u901a\\u8fc7\\u5b9e\\u73b0\\u66f4\\u9ad8\\u6548\\u7684\\u7f13\\u5b58\\u7b56\\u7565\\u548c\\u6570\\u636e\\u5e93\\u67e5\\u8be2\\u4f18\\u5316\\u6765\\u964d\\u4f4e\\u54cd\\u5e94\\u65f6\\u95f4\\u3002\\u6b64\\u5916\\uff0c\\u5bf9\\u524d\\u7aef\\u8fdb\\u884c\\u4ee3\\u7801\\u4f18\\u5316\\uff0c\\u51cf\\u5c11\\u4e0d\\u5fc5\\u8981\\u7684\\u6570\\u636e\\u52a0\\u8f7d\\u548c\\u6e32\\u67d3\\uff0c\\u4e5f\\u5c06\\u6709\\u52a9\\u4e8e\\u51cf\\u5c11\\u54cd\\u5e94\\u65f6\\u95f4\\u3002\\n\\n### \\u5546\\u54c1\\u76ee\\u5f55\\u6a21\\u5757\\u4f18\\u5316\\n\\n1.  **\\u7f51\\u7edc\\u5e26\\u5bbd\\u63a5\\u6536\\u548c\\u53d1\\u9001**\\uff1a\\u5f15\\u5165\\u66f4\\u9ad8\\u6548\\u7684\\u6570\\u636e\\u538b\\u7f29\\u7b97\\u6cd5\\u548c\\u4f18\\u5316\\u7f51\\u7edc\\u534f\\u8bae\\u6808\\uff0c\\u4ee5\\u51cf\\u5c11\\u6570\\u636e\\u5305\\u5927\\u5c0f\\u548c\\u63d0\\u9ad8\\u5e26\\u5bbd\\u5229\\u7528\\u7387\\u3002\\u540c\\u65f6\\uff0c\\u4f18\\u5316\\u7f51\\u7edc\\u961f\\u5217\\u7ba1\\u7406\\u7b56\\u7565\\uff0c\\u4f7f\\u7528\\u66f4\\u667a\\u80fd\\u7684\\u6d41\\u91cf\\u63a7\\u5236\\u673a\\u5236\\uff0c\\u4ee5\\u53ca\\u5b9e\\u73b0\\u66f4\\u6709\\u6548\\u7684\\u6570\\u636e\\u5305\\u8c03\\u5ea6\\u7b56\\u7565\\uff0c\\u786e\\u4fdd\\u7a33\\u5b9a\\u7684\\u7f51\\u7edc\\u5e26\\u5bbd\\u548c\\u6570\\u636e\\u5305\\u4f20\\u8f93\\u3002\\n\\n### \\u524d\\u7aef\\u6a21\\u5757\\u4f18\\u5316\\n\\n1.  **\\u672c\\u5730\\u6570\\u636e\\u7f13\\u5b58**\\uff1a\\u52a0\\u5f3a\\u672c\\u5730\\u7f13\\u5b58\\u673a\\u5236\\uff0c\\u786e\\u4fdd\\u5728\\u7f51\\u7edc\\u6296\\u52a8\\u671f\\u95f4\\uff0c\\u7528\\u6237\\u6700\\u5e38\\u8bbf\\u95ee\\u7684\\u6570\\u636e\\u80fd\\u591f\\u88ab\\u9ad8\\u6548\\u7f13\\u5b58\\u548c\\u5feb\\u901f\\u8bbf\\u95ee\\u3002\\u4f7f\\u7528\\u670d\\u52a1\\u5de5\\u4f5c\\u7ebf\\u7a0b(Service Workers)\\u6765\\u63d0\\u5347\\u5728\\u79bb\\u7ebf\\u72b6\\u6001\\u4e0b\\u7684\\u6570\\u636e\\u83b7\\u53d6\\u80fd\\u529b\\u3002\\u91c7\\u7528\\u61d2\\u52a0\\u8f7d\\u6280\\u672f\\uff0c\\u51cf\\u5c11\\u521d\\u6b21\\u52a0\\u8f7d\\u65f6\\u7684\\u6570\\u636e\\u4f20\\u8f93\\u91cf\\uff0c\\u4ece\\u800c\\u4f18\\u5316\\u524d\\u7aef\\u6a21\\u5757\\u7684\\u6027\\u80fd\\u3002\\n\\n### \\u5176\\u4ed6\\u7efc\\u5408\\u4f18\\u5316\\u63aa\\u65bd\\n\\n1.  **\\u6545\\u969c\\u5bb9\\u5fcd\\u548c\\u5197\\u4f59**\\uff1a\\u5b9e\\u73b0\\u66f4\\u591a\\u7684\\u6545\\u969c\\u5bb9\\u5fcd\\u673a\\u5236\\uff0c\\u5982\\u591a\\u5730\\u57df\\u90e8\\u7f72\\u548c\\u6570\\u636e\\u5907\\u4efd\\u7b56\\u7565\\uff0c\\u4ee5\\u4fdd\\u8bc1\\u5728\\u9762\\u5bf9\\u7f51\\u7edc\\u5ef6\\u8fdf\\u7b49\\u6545\\u969c\\u65f6\\uff0c\\u7cfb\\u7edf\\u80fd\\u591f\\u5feb\\u901f\\u6062\\u590d\\u548c\\u4fdd\\u6301\\u8fd0\\u884c\\u3002\\n    \\n2.  **\\u76d1\\u63a7\\u548c\\u81ea\\u52a8\\u5316**\\uff1a\\u52a0\\u5f3a\\u7cfb\\u7edf\\u76d1\\u63a7\\uff0c\\u5b9e\\u73b0\\u5b9e\\u65f6\\u6027\\u80fd\\u76d1\\u63a7\\u548c\\u81ea\\u52a8\\u5316\\u6545\\u969c\\u68c0\\u6d4b\\u3002\\u5728\\u68c0\\u6d4b\\u5230\\u6027\\u80fd\\u4e0b\\u964d\\u65f6\\uff0c\\u81ea\\u52a8\\u542f\\u52a8\\u4f18\\u5316\\u6216\\u6062\\u590d\\u6d41\\u7a0b\\uff0c\\u786e\\u4fdd\\u7cfb\\u7edf\\u80fd\\u591f\\u53ca\\u65f6\\u5e94\\u5bf9\\u6027\\u80fd\\u95ee\\u9898\\u3002\\n    \\n3.  **\\u6301\\u7eed\\u6d4b\\u8bd5\\u548c\\u4f18\\u5316**\\uff1a\\u5b9a\\u671f\\u8fdb\\u884c\\u7c7b\\u4f3c\\u7684\\u6545\\u969c\\u6ce8\\u5165\\u6d4b\\u8bd5\\uff0c\\u5e76\\u6839\\u636e\\u6d4b\\u8bd5\\u7ed3\\u679c\\u4e0d\\u65ad\\u8c03\\u6574\\u548c\\u4f18\\u5316\\u7cfb\\u7edf\\u3002\\u5229\\u7528\\u8fd9\\u4e9b\\u6d4b\\u8bd5\\u6765\\u9884\\u6d4b\\u548c\\u9884\\u9632\\u53ef\\u80fd\\u7684\\u6027\\u80fd\\u74f6\\u9888\\uff0c\\u786e\\u4fdd\\u7cfb\\u7edf\\u80fd\\u591f\\u6301\\u7eed\\u7a33\\u5b9a\\u5730\\u8fd0\\u884c\\u3002\\n\\n\\u901a\\u8fc7\\u5b9e\\u65bd\\u8fd9\\u4e9b\\u4f18\\u5316\\u7b56\\u7565\\uff0c\\u7cfb\\u7edf\\u5c06\\u80fd\\u591f\\u66f4\\u597d\\u5730\\u6ee1\\u8db3\\u7528\\u6237\\u671f\\u671b\\uff0c\\u63d0\\u5347\\u6027\\u80fd\\u8868\\u73b0\\uff0c\\u786e\\u4fdd\\u7cfb\\u7edf\\u5728\\u9762\\u5bf9\\u7f51\\u7edc\\u5ef6\\u8fdf\\u7b49\\u6545\\u969c\\u65f6\\u80fd\\u591f\\u4fdd\\u6301\\u7a33\\u5b9a\\u548c\\u53ef\\u9760\\u7684\\u8fd0\\u884c\\u3002\"\n",
      "      },\n",
      "      \"finish_reason\": \"stop\"\n",
      "    }\n",
      "  ],\n",
      "  \"usage\": {\n",
      "    \"prompt_tokens\": 5991,\n",
      "    \"completion_tokens\": 957,\n",
      "    \"total_tokens\": 6948\n",
      "  },\n",
      "  \"system_fingerprint\": \"fp_eeff13170a\"\n",
      "}\n",
      "根据您提供的故障注入测试数据和用户期望，以下是一系列的系统优化建议，旨在提高系统性能，确保它们符合或超过用户的期望：\n",
      "\n",
      "### 登录模块优化\n",
      "\n",
      "1.  **CPU使用率**：为了进一步优化性能和响应时间，建议对登录模块进行资源分配优化。可以考虑实施动态资源分配策略，根据负载情况自动调整资源分配，确保有足够的CPU资源来处理高峰期的请求。\n",
      "    \n",
      "2.  **TPS和成功率**：提高每秒事务数(TPS)和登录请求的成功率可以通过增强服务器的处理能力和网络带宽实现。考虑使用负载均衡和更高效的请求处理算法来提高处理能力。同时，优化后端服务的处理逻辑，减少不必要的数据库查询和计算，从而提升请求的处理速度和成功率。\n",
      "    \n",
      "3.  **响应时间优化**：针对响应时间的优化，可以通过实现更高效的缓存策略和数据库查询优化来降低响应时间。此外，对前端进行代码优化，减少不必要的数据加载和渲染，也将有助于减少响应时间。\n",
      "\n",
      "### 商品目录模块优化\n",
      "\n",
      "1.  **网络带宽接收和发送**：引入更高效的数据压缩算法和优化网络协议栈，以减少数据包大小和提高带宽利用率。同时，优化网络队列管理策略，使用更智能的流量控制机制，以及实现更有效的数据包调度策略，确保稳定的网络带宽和数据包传输。\n",
      "\n",
      "### 前端模块优化\n",
      "\n",
      "1.  **本地数据缓存**：加强本地缓存机制，确保在网络抖动期间，用户最常访问的数据能够被高效缓存和快速访问。使用服务工作线程(Service Workers)来提升在离线状态下的数据获取能力。采用懒加载技术，减少初次加载时的数据传输量，从而优化前端模块的性能。\n",
      "\n",
      "### 其他综合优化措施\n",
      "\n",
      "1.  **故障容忍和冗余**：实现更多的故障容忍机制，如多地域部署和数据备份策略，以保证在面对网络延迟等故障时，系统能够快速恢复和保持运行。\n",
      "    \n",
      "2.  **监控和自动化**：加强系统监控，实现实时性能监控和自动化故障检测。在检测到性能下降时，自动启动优化或恢复流程，确保系统能够及时应对性能问题。\n",
      "    \n",
      "3.  **持续测试和优化**：定期进行类似的故障注入测试，并根据测试结果不断调整和优化系统。利用这些测试来预测和预防可能的性能瓶颈，确保系统能够持续稳定地运行。\n",
      "\n",
      "通过实施这些优化策略，系统将能够更好地满足用户期望，提升性能表现，确保系统在面对网络延迟等故障时能够保持稳定和可靠的运行。\n"
     ]
    }
   ],
   "source": [
    "\n",
    "\n",
    "\n",
    "ret = gpt_dialogue_from_messages(messages)\n",
    "print(ret)"
   ],
   "metadata": {
    "collapsed": false,
    "ExecuteTime": {
     "end_time": "2023-12-05T05:14:34.590083400Z",
     "start_time": "2023-12-05T05:14:15.760150Z"
    }
   },
   "id": "c3794ccbd6371d17"
  }
 ],
 "metadata": {
  "kernelspec": {
   "display_name": "Python 3",
   "language": "python",
   "name": "python3"
  },
  "language_info": {
   "codemirror_mode": {
    "name": "ipython",
    "version": 2
   },
   "file_extension": ".py",
   "mimetype": "text/x-python",
   "name": "python",
   "nbconvert_exporter": "python",
   "pygments_lexer": "ipython2",
   "version": "2.7.6"
  }
 },
 "nbformat": 4,
 "nbformat_minor": 5
}
